{
 "cells": [
  {
   "attachments": {},
   "cell_type": "markdown",
   "metadata": {},
   "source": [
    "# Madrid Centro"
   ]
  },
  {
   "attachments": {},
   "cell_type": "markdown",
   "metadata": {},
   "source": [
    "Cogemos los datos por mes (12 meses en total), el fin de semana de la segunda semanana del mes para 2 personas. \n",
    "\n",
    "### En Airbnb:\n",
    "- Cojo los datos de madrid centro y filtro por alojamiento entero\n",
    "\n",
    "### En Hoteles (Kayak):\n",
    "- También madrid centro y marco solo hotel y bed and breakfast"
   ]
  },
  {
   "cell_type": "code",
   "execution_count": 1,
   "metadata": {},
   "outputs": [],
   "source": [
    "import pandas as pd\n",
    "import numpy as np\n",
    "\n",
    "#Servicio y driver de Chrome de Selenium\n",
    "from selenium import webdriver\n",
    "from selenium.webdriver.chrome.service import Service\n",
    "from webdriver_manager.chrome import ChromeDriverManager\n",
    "from selenium.webdriver.common.by import By\n",
    "from selenium.webdriver.common.keys import Keys\n",
    "\n",
    "#Hacemos que espere\n",
    "import time"
   ]
  },
  {
   "attachments": {},
   "cell_type": "markdown",
   "metadata": {},
   "source": [
    "# DATOS AIRBNB"
   ]
  },
  {
   "cell_type": "code",
   "execution_count": 55,
   "metadata": {},
   "outputs": [],
   "source": [
    "service = Service(ChromeDriverManager().install())\n",
    "driver = webdriver.Chrome(service=service)"
   ]
  },
  {
   "cell_type": "code",
   "execution_count": 57,
   "metadata": {},
   "outputs": [
    {
     "name": "stdout",
     "output_type": "stream",
     "text": [
      "Texto de la etiqueta: Vale\n"
     ]
    }
   ],
   "source": [
    "#Para pulsar el boton de VALE cuando aparece por las cookies\n",
    "\n",
    "accept = driver.find_element(By.CLASS_NAME, \"_160gnkxa\")\n",
    "\n",
    "print(\"Texto de la etiqueta: {}\".format(accept.text))\n",
    "\n",
    "#Hacemos click\n",
    "accept.click()"
   ]
  },
  {
   "attachments": {},
   "cell_type": "markdown",
   "metadata": {},
   "source": [
    "# DATOS AIRBNB MARZO 2023"
   ]
  },
  {
   "cell_type": "code",
   "execution_count": 9,
   "metadata": {},
   "outputs": [],
   "source": [
    "url_marzo_2023 = 'https://www.airbnb.es/s/Centro--Madrid--Spain/homes?tab_id=home_tab&refinement_paths%5B%5D=%2Fhomes&flexible_trip_lengths%5B%5D=one_week&price_filter_input_type=0&price_filter_num_nights=2&query=Centro%2C%20Madrid&date_picker_type=calendar&checkin=2023-03-10&checkout=2023-03-12&adults=2&source=structured_search_input_header&search_type=user_map_move&room_types%5B%5D=Entire%20home%2Fapt&place_id=ChIJFWLQn34oQg0RwdDjI_8J4dU&ne_lat=40.518404725515985&ne_lng=-3.5133439361524665&sw_lat=40.286766270401166&sw_lng=-3.83959711188794&zoom=11&search_by_map=true'\n",
    "driver.get(url_marzo_2023)"
   ]
  },
  {
   "cell_type": "code",
   "execution_count": 11,
   "metadata": {},
   "outputs": [
    {
     "name": "stdout",
     "output_type": "stream",
     "text": [
      "No hay más datos\n"
     ]
    }
   ],
   "source": [
    "pasar_pag = driver.find_element(By.CLASS_NAME, \"_1bfat5l\") #para pasar pagina\n",
    "\n",
    "list_of_prices = []\n",
    "\n",
    "for i in range(15):\n",
    "    try:\n",
    "        price = driver.find_elements(By.CLASS_NAME, \"_tt122m\") \n",
    "        \n",
    "        for p in price:\n",
    "            all_prices = float(p.text.split()[0])\n",
    "            list_of_prices.append(all_prices)\n",
    "        pasar_pag.click()\n",
    "        time.sleep(np.random.randint(4, 8))\n",
    "    except:\n",
    "        print(\"No hay más datos\")\n",
    "        break"
   ]
  },
  {
   "cell_type": "code",
   "execution_count": 20,
   "metadata": {},
   "outputs": [],
   "source": [
    "precios_marzo_AIRBNB = pd.DataFrame(list_of_prices, columns= [\"Marzo 2023\"])\n",
    "precios_marzo_AIRBNB.to_csv(\"Datos_airbnb/airbnb_marzo_2023\")"
   ]
  },
  {
   "attachments": {},
   "cell_type": "markdown",
   "metadata": {},
   "source": [
    "# DATOS AIRBNB ABRIL 2023"
   ]
  },
  {
   "cell_type": "code",
   "execution_count": 4,
   "metadata": {},
   "outputs": [],
   "source": [
    "url_abril_2023 = 'https://www.airbnb.es/s/Centro--Madrid--Spain/homes?tab_id=home_tab&refinement_paths%5B%5D=%2Fhomes&flexible_trip_lengths%5B%5D=one_week&price_filter_input_type=0&price_filter_num_nights=2&query=Centro%2C%20Madrid&date_picker_type=calendar&checkin=2023-04-07&checkout=2023-04-09&adults=2&source=structured_search_input_header&search_type=filter_change&room_types%5B%5D=Entire%20home%2Fapt&place_id=ChIJFWLQn34oQg0RwdDjI_8J4dU&ne_lat=40.518404725515985&ne_lng=-3.5133439361524665&sw_lat=40.286766270401166&sw_lng=-3.83959711188794&zoom=11&search_by_map=true'\n",
    "driver.get(url_abril_2023)"
   ]
  },
  {
   "cell_type": "code",
   "execution_count": 6,
   "metadata": {},
   "outputs": [
    {
     "name": "stdout",
     "output_type": "stream",
     "text": [
      "No hay más datos\n"
     ]
    }
   ],
   "source": [
    "pasar_pag = driver.find_element(By.CLASS_NAME, \"_1bfat5l\") #para pasar pagina\n",
    "\n",
    "list_of_prices_abril = []\n",
    "\n",
    "for i in range(15):\n",
    "    try:\n",
    "        price = driver.find_elements(By.CLASS_NAME, \"_tt122m\") \n",
    "        \n",
    "        for p in price:\n",
    "            all_prices = float(p.text.split()[0])\n",
    "            list_of_prices_abril.append(all_prices)\n",
    "        pasar_pag.click()\n",
    "        time.sleep(np.random.randint(4, 8))\n",
    "    except:\n",
    "        print(\"No hay más datos\")\n",
    "        break"
   ]
  },
  {
   "cell_type": "code",
   "execution_count": 9,
   "metadata": {},
   "outputs": [],
   "source": [
    "precios_abril_AIRBNB = pd.DataFrame(list_of_prices_abril, columns= [\"Abril 2023\"])\n",
    "precios_abril_AIRBNB.to_csv(\"airbnb_abril_2023\")"
   ]
  },
  {
   "attachments": {},
   "cell_type": "markdown",
   "metadata": {},
   "source": [
    "# DATOS AIRBNB MAYO 2023"
   ]
  },
  {
   "cell_type": "code",
   "execution_count": 11,
   "metadata": {},
   "outputs": [],
   "source": [
    "url_mayo_2023 = 'https://www.airbnb.es/s/Centro--Madrid--Spain/homes?tab_id=home_tab&refinement_paths%5B%5D=%2Fhomes&flexible_trip_lengths%5B%5D=one_week&price_filter_input_type=0&price_filter_num_nights=2&query=Centro%2C%20Madrid&date_picker_type=calendar&checkin=2023-05-12&checkout=2023-05-14&adults=2&source=structured_search_input_header&search_type=filter_change&room_types%5B%5D=Entire%20home%2Fapt&place_id=ChIJFWLQn34oQg0RwdDjI_8J4dU&ne_lat=40.518404725515985&ne_lng=-3.5133439361524665&sw_lat=40.286766270401166&sw_lng=-3.83959711188794&zoom=11&search_by_map=true'\n",
    "driver.get(url_mayo_2023)"
   ]
  },
  {
   "cell_type": "code",
   "execution_count": 13,
   "metadata": {},
   "outputs": [
    {
     "name": "stdout",
     "output_type": "stream",
     "text": [
      "No hay más datos\n"
     ]
    }
   ],
   "source": [
    "pasar_pag = driver.find_element(By.CLASS_NAME, \"_1bfat5l\") #para pasar pagina\n",
    "\n",
    "list_of_prices_mayo = []\n",
    "\n",
    "for i in range(15):\n",
    "    try:\n",
    "        price = driver.find_elements(By.CLASS_NAME, \"_tt122m\") \n",
    "        \n",
    "        for p in price:\n",
    "            all_prices = float(p.text.split()[0])\n",
    "            list_of_prices_mayo.append(all_prices)\n",
    "        pasar_pag.click()\n",
    "        time.sleep(np.random.randint(4, 8))\n",
    "    except:\n",
    "        print(\"No hay más datos\")\n",
    "        break"
   ]
  },
  {
   "cell_type": "code",
   "execution_count": 14,
   "metadata": {},
   "outputs": [],
   "source": [
    "precios_mayo_AIRBNB = pd.DataFrame(list_of_prices_mayo, columns= [\"Mayo 2023\"])\n",
    "precios_mayo_AIRBNB.to_csv(\"airbnb_mayo_2023\")"
   ]
  },
  {
   "attachments": {},
   "cell_type": "markdown",
   "metadata": {},
   "source": [
    "# DATOS AIRBNB JUNIO 2023"
   ]
  },
  {
   "cell_type": "code",
   "execution_count": 16,
   "metadata": {},
   "outputs": [],
   "source": [
    "url_junio_2023 = 'https://www.airbnb.es/s/Centro--Madrid--Spain/homes?tab_id=home_tab&refinement_paths%5B%5D=%2Fhomes&flexible_trip_lengths%5B%5D=one_week&price_filter_input_type=0&price_filter_num_nights=2&query=Centro%2C%20Madrid&date_picker_type=calendar&checkin=2023-06-09&checkout=2023-06-11&adults=2&source=structured_search_input_header&search_type=filter_change&room_types%5B%5D=Entire%20home%2Fapt&place_id=ChIJFWLQn34oQg0RwdDjI_8J4dU&ne_lat=40.518404725515985&ne_lng=-3.5133439361524665&sw_lat=40.286766270401166&sw_lng=-3.83959711188794&zoom=11&search_by_map=true'\n",
    "driver.get(url_junio_2023)"
   ]
  },
  {
   "cell_type": "code",
   "execution_count": 18,
   "metadata": {},
   "outputs": [
    {
     "name": "stdout",
     "output_type": "stream",
     "text": [
      "No hay más datos\n"
     ]
    }
   ],
   "source": [
    "pasar_pag = driver.find_element(By.CLASS_NAME, \"_1bfat5l\") #para pasar pagina\n",
    "\n",
    "list_of_prices_junio = []\n",
    "\n",
    "for i in range(15):\n",
    "    try:\n",
    "        price = driver.find_elements(By.CLASS_NAME, \"_tt122m\") \n",
    "        \n",
    "        for p in price:\n",
    "            all_prices = float(p.text.split()[0])\n",
    "            list_of_prices_junio.append(all_prices)\n",
    "        pasar_pag.click()\n",
    "        time.sleep(np.random.randint(4, 8))\n",
    "    except:\n",
    "        print(\"No hay más datos\")\n",
    "        break"
   ]
  },
  {
   "cell_type": "code",
   "execution_count": 19,
   "metadata": {},
   "outputs": [],
   "source": [
    "precios_junio_AIRBNB = pd.DataFrame(list_of_prices_junio, columns= [\"Junio 2023\"])\n",
    "precios_junio_AIRBNB.to_csv(\"airbnb_junio_2023\")"
   ]
  },
  {
   "attachments": {},
   "cell_type": "markdown",
   "metadata": {},
   "source": [
    "# DATOS AIRBNB JULIO 2023"
   ]
  },
  {
   "cell_type": "code",
   "execution_count": 21,
   "metadata": {},
   "outputs": [],
   "source": [
    "url_julio_2023 = 'https://www.airbnb.es/s/Centro--Madrid--Spain/homes?tab_id=home_tab&refinement_paths%5B%5D=%2Fhomes&flexible_trip_lengths%5B%5D=one_week&price_filter_input_type=0&price_filter_num_nights=2&query=Centro%2C%20Madrid&date_picker_type=calendar&checkin=2023-07-07&checkout=2023-07-09&adults=2&source=structured_search_input_header&search_type=filter_change&room_types%5B%5D=Entire%20home%2Fapt&place_id=ChIJFWLQn34oQg0RwdDjI_8J4dU&ne_lat=40.518404725515985&ne_lng=-3.5133439361524665&sw_lat=40.286766270401166&sw_lng=-3.83959711188794&zoom=11&search_by_map=true'\n",
    "driver.get(url_julio_2023)"
   ]
  },
  {
   "cell_type": "code",
   "execution_count": 23,
   "metadata": {},
   "outputs": [
    {
     "name": "stdout",
     "output_type": "stream",
     "text": [
      "No hay más datos\n"
     ]
    }
   ],
   "source": [
    "pasar_pag = driver.find_element(By.CLASS_NAME, \"_1bfat5l\") #para pasar pagina\n",
    "\n",
    "list_of_prices_julio = []\n",
    "\n",
    "for i in range(15):\n",
    "    try:\n",
    "        price = driver.find_elements(By.CLASS_NAME, \"_tt122m\") \n",
    "        \n",
    "        for p in price:\n",
    "            all_prices = float(p.text.split()[0])\n",
    "            list_of_prices_julio.append(all_prices)\n",
    "        pasar_pag.click()\n",
    "        time.sleep(np.random.randint(4, 8))\n",
    "    except:\n",
    "        print(\"No hay más datos\")\n",
    "        break"
   ]
  },
  {
   "cell_type": "code",
   "execution_count": 24,
   "metadata": {},
   "outputs": [],
   "source": [
    "precios_julio_AIRBNB = pd.DataFrame(list_of_prices_julio, columns= [\"Julio 2023\"])\n",
    "precios_julio_AIRBNB.to_csv(\"airbnb_julio_2023\")"
   ]
  },
  {
   "attachments": {},
   "cell_type": "markdown",
   "metadata": {},
   "source": [
    "# DATOS AIRBNB AGOSTO 2023"
   ]
  },
  {
   "cell_type": "code",
   "execution_count": 26,
   "metadata": {},
   "outputs": [],
   "source": [
    "url_agosto_2023 = 'https://www.airbnb.es/s/Centro--Madrid--Spain/homes?tab_id=home_tab&refinement_paths%5B%5D=%2Fhomes&flexible_trip_lengths%5B%5D=one_week&price_filter_input_type=0&price_filter_num_nights=2&query=Centro%2C%20Madrid&date_picker_type=calendar&checkin=2023-08-11&checkout=2023-08-13&adults=2&source=structured_search_input_header&search_type=filter_change&room_types%5B%5D=Entire%20home%2Fapt&place_id=ChIJFWLQn34oQg0RwdDjI_8J4dU&ne_lat=40.518404725515985&ne_lng=-3.5133439361524665&sw_lat=40.286766270401166&sw_lng=-3.83959711188794&zoom=11&search_by_map=true'\n",
    "driver.get(url_agosto_2023)"
   ]
  },
  {
   "cell_type": "code",
   "execution_count": 28,
   "metadata": {},
   "outputs": [
    {
     "name": "stdout",
     "output_type": "stream",
     "text": [
      "No hay más datos\n"
     ]
    }
   ],
   "source": [
    "pasar_pag = driver.find_element(By.CLASS_NAME, \"_1bfat5l\") #para pasar pagina\n",
    "\n",
    "list_of_prices_agosto = []\n",
    "\n",
    "for i in range(15):\n",
    "    try:\n",
    "        price = driver.find_elements(By.CLASS_NAME, \"_tt122m\") \n",
    "        \n",
    "        for p in price:\n",
    "            all_prices = float(p.text.split()[0])\n",
    "            list_of_prices_agosto.append(all_prices)\n",
    "        pasar_pag.click()\n",
    "        time.sleep(np.random.randint(4, 8))\n",
    "    except:\n",
    "        print(\"No hay más datos\")\n",
    "        break"
   ]
  },
  {
   "cell_type": "code",
   "execution_count": 29,
   "metadata": {},
   "outputs": [],
   "source": [
    "precios_agosto_AIRBNB = pd.DataFrame(list_of_prices_agosto, columns= [\"Agosto 2023\"])\n",
    "precios_agosto_AIRBNB.to_csv(\"airbnb_agosto_2023\")"
   ]
  },
  {
   "attachments": {},
   "cell_type": "markdown",
   "metadata": {},
   "source": [
    "# DATOS AIRBNB SEPTIEMBRE 2023"
   ]
  },
  {
   "cell_type": "code",
   "execution_count": 31,
   "metadata": {},
   "outputs": [],
   "source": [
    "url_sept_2023 = 'https://www.airbnb.es/s/Centro--Madrid--Spain/homes?tab_id=home_tab&refinement_paths%5B%5D=%2Fhomes&flexible_trip_lengths%5B%5D=one_week&price_filter_input_type=0&price_filter_num_nights=2&query=Centro%2C%20Madrid&date_picker_type=calendar&checkin=2023-09-08&checkout=2023-09-10&adults=2&source=structured_search_input_header&search_type=filter_change&room_types%5B%5D=Entire%20home%2Fapt&place_id=ChIJFWLQn34oQg0RwdDjI_8J4dU&ne_lat=40.518404725515985&ne_lng=-3.5133439361524665&sw_lat=40.286766270401166&sw_lng=-3.83959711188794&zoom=11&search_by_map=true'\n",
    "driver.get(url_sept_2023)"
   ]
  },
  {
   "cell_type": "code",
   "execution_count": 33,
   "metadata": {},
   "outputs": [
    {
     "name": "stdout",
     "output_type": "stream",
     "text": [
      "No hay más datos\n"
     ]
    }
   ],
   "source": [
    "pasar_pag = driver.find_element(By.CLASS_NAME, \"_1bfat5l\") #para pasar pagina\n",
    "\n",
    "list_of_prices_sept = []\n",
    "\n",
    "for i in range(15):\n",
    "    try:\n",
    "        price = driver.find_elements(By.CLASS_NAME, \"_tt122m\") \n",
    "        \n",
    "        for p in price:\n",
    "            all_prices = float(p.text.split()[0])\n",
    "            list_of_prices_sept.append(all_prices)\n",
    "        pasar_pag.click()\n",
    "        time.sleep(np.random.randint(4, 8))\n",
    "    except:\n",
    "        print(\"No hay más datos\")\n",
    "        break"
   ]
  },
  {
   "cell_type": "code",
   "execution_count": 34,
   "metadata": {},
   "outputs": [],
   "source": [
    "precios_sept_AIRBNB = pd.DataFrame(list_of_prices_sept, columns= [\"Septiembre 2023\"])\n",
    "precios_sept_AIRBNB.to_csv(\"airbnb_sept_2023\")"
   ]
  },
  {
   "attachments": {},
   "cell_type": "markdown",
   "metadata": {},
   "source": [
    "# DATOS AIRBNB OCTUBRE 2023"
   ]
  },
  {
   "cell_type": "code",
   "execution_count": 36,
   "metadata": {},
   "outputs": [],
   "source": [
    "url_oct_2023 = 'https://www.airbnb.es/s/Centro--Madrid--Spain/homes?tab_id=home_tab&refinement_paths%5B%5D=%2Fhomes&flexible_trip_lengths%5B%5D=one_week&price_filter_input_type=0&price_filter_num_nights=2&query=Centro%2C%20Madrid&date_picker_type=calendar&adults=2&source=structured_search_input_header&search_type=filter_change&room_types%5B%5D=Entire%20home%2Fapt&place_id=ChIJFWLQn34oQg0RwdDjI_8J4dU&ne_lat=40.518404725515985&ne_lng=-3.5133439361524665&sw_lat=40.286766270401166&sw_lng=-3.83959711188794&zoom=11&search_by_map=true&checkin=2023-10-13&checkout=2023-10-15'\n",
    "driver.get(url_oct_2023)"
   ]
  },
  {
   "cell_type": "code",
   "execution_count": 38,
   "metadata": {},
   "outputs": [
    {
     "name": "stdout",
     "output_type": "stream",
     "text": [
      "No hay más datos\n"
     ]
    }
   ],
   "source": [
    "pasar_pag = driver.find_element(By.CLASS_NAME, \"_1bfat5l\") #para pasar pagina\n",
    "\n",
    "list_of_prices_oct = []\n",
    "\n",
    "for i in range(15):\n",
    "    try:\n",
    "        price = driver.find_elements(By.CLASS_NAME, \"_tt122m\") \n",
    "        \n",
    "        for p in price:\n",
    "            all_prices = float(p.text.split()[0])\n",
    "            list_of_prices_oct.append(all_prices)\n",
    "        pasar_pag.click()\n",
    "        time.sleep(np.random.randint(4, 8))\n",
    "    except:\n",
    "        print(\"No hay más datos\")\n",
    "        break"
   ]
  },
  {
   "cell_type": "code",
   "execution_count": 39,
   "metadata": {},
   "outputs": [],
   "source": [
    "precios_oct_AIRBNB = pd.DataFrame(list_of_prices_oct, columns= [\"Octubre 2023\"])\n",
    "precios_oct_AIRBNB.to_csv(\"airbnb_oct_2023\")"
   ]
  },
  {
   "attachments": {},
   "cell_type": "markdown",
   "metadata": {},
   "source": [
    "# DATOS AIRBNB NOVIEMBRE 2023"
   ]
  },
  {
   "cell_type": "code",
   "execution_count": 41,
   "metadata": {},
   "outputs": [],
   "source": [
    "url_nov_2023 = 'https://www.airbnb.es/s/Centro--Madrid--Spain/homes?tab_id=home_tab&refinement_paths%5B%5D=%2Fhomes&flexible_trip_lengths%5B%5D=one_week&price_filter_input_type=0&price_filter_num_nights=2&query=Centro%2C%20Madrid&date_picker_type=calendar&adults=2&source=structured_search_input_header&search_type=filter_change&room_types%5B%5D=Entire%20home%2Fapt&place_id=ChIJFWLQn34oQg0RwdDjI_8J4dU&ne_lat=40.518404725515985&ne_lng=-3.5133439361524665&sw_lat=40.286766270401166&sw_lng=-3.83959711188794&zoom=11&search_by_map=true&checkin=2023-11-10&checkout=2023-11-12'\n",
    "driver.get(url_nov_2023)"
   ]
  },
  {
   "cell_type": "code",
   "execution_count": 43,
   "metadata": {},
   "outputs": [
    {
     "name": "stdout",
     "output_type": "stream",
     "text": [
      "No hay más datos\n"
     ]
    }
   ],
   "source": [
    "pasar_pag = driver.find_element(By.CLASS_NAME, \"_1bfat5l\") #para pasar pagina\n",
    "\n",
    "list_of_prices_nov = []\n",
    "\n",
    "for i in range(15):\n",
    "    try:\n",
    "        price = driver.find_elements(By.CLASS_NAME, \"_tt122m\") \n",
    "        \n",
    "        for p in price:\n",
    "            all_prices = float(p.text.split()[0])\n",
    "            list_of_prices_nov.append(all_prices)\n",
    "        pasar_pag.click()\n",
    "        time.sleep(np.random.randint(4, 8))\n",
    "    except:\n",
    "        print(\"No hay más datos\")\n",
    "        break"
   ]
  },
  {
   "cell_type": "code",
   "execution_count": 44,
   "metadata": {},
   "outputs": [],
   "source": [
    "precios_nov_AIRBNB = pd.DataFrame(list_of_prices_nov, columns= [\"Noviembre 2023\"])\n",
    "precios_nov_AIRBNB.to_csv(\"airbnb_nov_2023\")"
   ]
  },
  {
   "attachments": {},
   "cell_type": "markdown",
   "metadata": {},
   "source": [
    "# DATOS AIRBNB DICIEMBRE 2023"
   ]
  },
  {
   "cell_type": "code",
   "execution_count": 46,
   "metadata": {},
   "outputs": [],
   "source": [
    "url_dic_2023 = 'https://www.airbnb.es/s/Centro--Madrid--Spain/homes?tab_id=home_tab&refinement_paths%5B%5D=%2Fhomes&flexible_trip_lengths%5B%5D=one_week&price_filter_input_type=0&price_filter_num_nights=2&query=Centro%2C%20Madrid&date_picker_type=calendar&adults=2&source=structured_search_input_header&search_type=filter_change&room_types%5B%5D=Entire%20home%2Fapt&place_id=ChIJFWLQn34oQg0RwdDjI_8J4dU&ne_lat=40.518404725515985&ne_lng=-3.5133439361524665&sw_lat=40.286766270401166&sw_lng=-3.83959711188794&zoom=11&search_by_map=true&checkin=2023-12-08&checkout=2023-12-10'\n",
    "driver.get(url_dic_2023)"
   ]
  },
  {
   "cell_type": "code",
   "execution_count": 48,
   "metadata": {},
   "outputs": [
    {
     "name": "stdout",
     "output_type": "stream",
     "text": [
      "No hay más datos\n"
     ]
    }
   ],
   "source": [
    "pasar_pag = driver.find_element(By.CLASS_NAME, \"_1bfat5l\") #para pasar pagina\n",
    "\n",
    "list_of_prices_dic = []\n",
    "\n",
    "for i in range(15):\n",
    "    try:\n",
    "        price = driver.find_elements(By.CLASS_NAME, \"_tt122m\") \n",
    "        \n",
    "        for p in price:\n",
    "            all_prices = float(p.text.split()[0])\n",
    "            list_of_prices_dic.append(all_prices)\n",
    "        pasar_pag.click()\n",
    "        time.sleep(np.random.randint(4, 8))\n",
    "    except:\n",
    "        print(\"No hay más datos\")\n",
    "        break"
   ]
  },
  {
   "cell_type": "code",
   "execution_count": 49,
   "metadata": {},
   "outputs": [],
   "source": [
    "precios_dic_AIRBNB = pd.DataFrame(list_of_prices_dic, columns= [\"Diciembre 2023\"])\n",
    "precios_dic_AIRBNB.to_csv(\"airbnb_dic_2023\")"
   ]
  },
  {
   "attachments": {},
   "cell_type": "markdown",
   "metadata": {},
   "source": [
    "# DATOS AIRBNB ENERO 2024"
   ]
  },
  {
   "cell_type": "code",
   "execution_count": 51,
   "metadata": {},
   "outputs": [],
   "source": [
    "url_enero_2024 = 'https://www.airbnb.es/s/Centro--Madrid--Spain/homes?tab_id=home_tab&refinement_paths%5B%5D=%2Fhomes&flexible_trip_lengths%5B%5D=one_week&price_filter_input_type=0&price_filter_num_nights=2&query=Centro%2C%20Madrid&date_picker_type=calendar&adults=2&source=structured_search_input_header&search_type=filter_change&room_types%5B%5D=Entire%20home%2Fapt&place_id=ChIJFWLQn34oQg0RwdDjI_8J4dU&ne_lat=40.518404725515985&ne_lng=-3.5133439361524665&sw_lat=40.286766270401166&sw_lng=-3.83959711188794&zoom=11&search_by_map=true&checkin=2024-01-12&checkout=2024-01-14'\n",
    "driver.get(url_enero_2024)"
   ]
  },
  {
   "cell_type": "code",
   "execution_count": 53,
   "metadata": {},
   "outputs": [
    {
     "name": "stdout",
     "output_type": "stream",
     "text": [
      "No hay más datos\n"
     ]
    }
   ],
   "source": [
    "pasar_pag = driver.find_element(By.CLASS_NAME, \"_1bfat5l\") #para pasar pagina\n",
    "\n",
    "list_of_prices_enero = []\n",
    "\n",
    "for i in range(15):\n",
    "    try:\n",
    "        price = driver.find_elements(By.CLASS_NAME, \"_tt122m\") \n",
    "        \n",
    "        for p in price:\n",
    "            all_prices = float(p.text.split()[0])\n",
    "            list_of_prices_enero.append(all_prices)\n",
    "        pasar_pag.click()\n",
    "        time.sleep(np.random.randint(4, 8))\n",
    "    except:\n",
    "        print(\"No hay más datos\")\n",
    "        break"
   ]
  },
  {
   "cell_type": "code",
   "execution_count": 54,
   "metadata": {},
   "outputs": [],
   "source": [
    "precios_enero_AIRBNB = pd.DataFrame(list_of_prices_enero, columns= [\"Enero 2024\"])\n",
    "precios_enero_AIRBNB.to_csv(\"airbnb_enero_2024\")"
   ]
  },
  {
   "attachments": {},
   "cell_type": "markdown",
   "metadata": {},
   "source": [
    "# DATOS AIRBNB FEBRERO 2024"
   ]
  },
  {
   "cell_type": "code",
   "execution_count": 56,
   "metadata": {},
   "outputs": [],
   "source": [
    "url_feb_2024 = 'https://www.airbnb.es/s/Centro--Madrid--Spain/homes?tab_id=home_tab&refinement_paths%5B%5D=%2Fhomes&flexible_trip_lengths%5B%5D=one_week&price_filter_input_type=0&price_filter_num_nights=2&query=Centro%2C%20Madrid&date_picker_type=calendar&adults=2&source=structured_search_input_header&search_type=filter_change&room_types%5B%5D=Entire%20home%2Fapt&place_id=ChIJFWLQn34oQg0RwdDjI_8J4dU&ne_lat=40.518404725515985&ne_lng=-3.5133439361524665&sw_lat=40.286766270401166&sw_lng=-3.83959711188794&zoom=11&search_by_map=true&checkin=2024-02-09&checkout=2024-02-11'\n",
    "driver.get(url_feb_2024)"
   ]
  },
  {
   "cell_type": "code",
   "execution_count": 58,
   "metadata": {},
   "outputs": [
    {
     "name": "stdout",
     "output_type": "stream",
     "text": [
      "No hay más datos\n"
     ]
    }
   ],
   "source": [
    "pasar_pag = driver.find_element(By.CLASS_NAME, \"_1bfat5l\") #para pasar pagina\n",
    "\n",
    "list_of_prices_feb = []\n",
    "\n",
    "for i in range(15):\n",
    "    try:\n",
    "        price = driver.find_elements(By.CLASS_NAME, \"_tt122m\") \n",
    "        \n",
    "        for p in price:\n",
    "            all_prices = float(p.text.split()[0])\n",
    "            list_of_prices_feb.append(all_prices)\n",
    "        pasar_pag.click()\n",
    "        time.sleep(np.random.randint(4, 8))\n",
    "    except:\n",
    "        print(\"No hay más datos\")\n",
    "        break"
   ]
  },
  {
   "cell_type": "code",
   "execution_count": 59,
   "metadata": {},
   "outputs": [],
   "source": [
    "precios_feb_AIRBNB = pd.DataFrame(list_of_prices_feb, columns= [\"Febrero 2024\"])\n",
    "precios_feb_AIRBNB.to_csv(\"airbnb_feb_2024\")"
   ]
  },
  {
   "attachments": {},
   "cell_type": "markdown",
   "metadata": {},
   "source": [
    "-----------------------------------------------------------------------------------------------------------"
   ]
  },
  {
   "attachments": {},
   "cell_type": "markdown",
   "metadata": {},
   "source": [
    "------------------------------------------------------------------------------------------------------"
   ]
  },
  {
   "attachments": {},
   "cell_type": "markdown",
   "metadata": {},
   "source": [
    "# DATOS HOTELES (KAYAK)"
   ]
  },
  {
   "cell_type": "code",
   "execution_count": 2,
   "metadata": {},
   "outputs": [],
   "source": [
    "service = Service(ChromeDriverManager().install())\n",
    "driver = webdriver.Chrome(service=service)"
   ]
  },
  {
   "cell_type": "code",
   "execution_count": 4,
   "metadata": {},
   "outputs": [
    {
     "name": "stdout",
     "output_type": "stream",
     "text": [
      "Texto de la etiqueta: Aceptar\n"
     ]
    }
   ],
   "source": [
    "#Para pulsar el boton de ACEPTAR cuando aparece por las cookies\n",
    "\n",
    "accept = driver.find_element(By.CSS_SELECTOR, 'div.iInN-footer  button  div.Iqt3-button-container  div')\n",
    "\n",
    "print(\"Texto de la etiqueta: {}\".format(accept.text))\n",
    "\n",
    "#Hacemos click\n",
    "accept.click()"
   ]
  },
  {
   "attachments": {},
   "cell_type": "markdown",
   "metadata": {},
   "source": [
    "# DATOS HOTEL MARZO 2023"
   ]
  },
  {
   "cell_type": "code",
   "execution_count": 75,
   "metadata": {},
   "outputs": [],
   "source": [
    "url_marzo_23 = \"https://www.kayak.es/hotels/Madrid,Espana-c32213/2023-03-10/2023-03-12/2adults?sort=rank_a&fs=property-type=bb,hotel\"\n",
    "driver.get(url_marzo_23)"
   ]
  },
  {
   "cell_type": "code",
   "execution_count": null,
   "metadata": {},
   "outputs": [],
   "source": [
    "#Para cargar todos los resultados de la página\n",
    "\n",
    "mas_resultados = driver.find_element(By.CLASS_NAME, 'moreButton')\n",
    "\n",
    "for i in range(40):\n",
    "    try:\n",
    "        mas_resultados.click()\n",
    "        time.sleep(np.random.randint(4, 7))\n",
    "    except:\n",
    "        print(\"Ya se han puelsado todos los botones\")\n",
    "        break"
   ]
  },
  {
   "cell_type": "code",
   "execution_count": 78,
   "metadata": {},
   "outputs": [],
   "source": [
    "#Luego sacamos los precios\n",
    "\n",
    "price = driver.find_elements(By.CLASS_NAME, \"hzpu-priceFlex\") \n",
    "precios_marzo_hotel = []    \n",
    "\n",
    "for p in price:\n",
    "    all_prices = float(p.text.split()[0])\n",
    "    precios_marzo_hotel.append(all_prices)"
   ]
  },
  {
   "cell_type": "code",
   "execution_count": 79,
   "metadata": {},
   "outputs": [],
   "source": [
    "precios_marzo_HOTEL = pd.DataFrame(precios_marzo_hotel, columns= [\"Marzo 2023\"])\n",
    "precios_marzo_HOTEL.to_csv(\"hotel_marzo_2023\")"
   ]
  },
  {
   "attachments": {},
   "cell_type": "markdown",
   "metadata": {},
   "source": [
    "# DATOS HOTEL ABRIL 2023"
   ]
  },
  {
   "cell_type": "code",
   "execution_count": 81,
   "metadata": {},
   "outputs": [],
   "source": [
    "url_abril_23 = \"https://www.kayak.es/hotels/Madrid,Espana-c32213/2023-04-07/2023-04-09/2adults?fs=property-type=hotel,bb&sort=rank_a\"\n",
    "driver.get(url_abril_23)"
   ]
  },
  {
   "cell_type": "code",
   "execution_count": 83,
   "metadata": {},
   "outputs": [],
   "source": [
    "#Para cargar todos los resultados de la página\n",
    "\n",
    "mas_resultados = driver.find_element(By.CLASS_NAME, 'moreButton')\n",
    "\n",
    "for i in range(40):\n",
    "    try:\n",
    "        mas_resultados.click()\n",
    "        time.sleep(np.random.randint(4, 7))\n",
    "    except:\n",
    "        print(\"Ya se han puelsado todos los botones\")\n",
    "        break"
   ]
  },
  {
   "cell_type": "code",
   "execution_count": 84,
   "metadata": {},
   "outputs": [],
   "source": [
    "#Luego sacamos los precios\n",
    "\n",
    "price = driver.find_elements(By.CLASS_NAME, \"hzpu-priceFlex\") \n",
    "precios_abril_hotel = []    \n",
    "\n",
    "for p in price:\n",
    "    all_prices = float(p.text.split()[0])\n",
    "    precios_abril_hotel.append(all_prices)"
   ]
  },
  {
   "cell_type": "code",
   "execution_count": 85,
   "metadata": {},
   "outputs": [],
   "source": [
    "precios_abril_HOTEL = pd.DataFrame(precios_abril_hotel, columns= [\"Abril 2023\"])\n",
    "precios_abril_HOTEL.to_csv(\"hotel_abril_2023\")"
   ]
  },
  {
   "attachments": {},
   "cell_type": "markdown",
   "metadata": {},
   "source": [
    "# DATOS HOTEL MAYO 2023"
   ]
  },
  {
   "cell_type": "code",
   "execution_count": null,
   "metadata": {},
   "outputs": [],
   "source": [
    "url_mayo_23 = \"https://www.kayak.es/hotels/Madrid,Espana-c32213/2023-05-12/2023-05-14/2adults?fs=property-type=hotel,bb&sort=rank_a\"\n",
    "driver.get(url_mayo_23)"
   ]
  },
  {
   "cell_type": "code",
   "execution_count": null,
   "metadata": {},
   "outputs": [],
   "source": [
    "#Para cargar todos los resultados de la página\n",
    "\n",
    "mas_resultados = driver.find_element(By.CLASS_NAME, 'moreButton')\n",
    "\n",
    "for i in range(40):\n",
    "    try:\n",
    "        mas_resultados.click()\n",
    "        time.sleep(np.random.randint(4, 7))\n",
    "    except:\n",
    "        print(\"Ya se han puelsado todos los botones\")\n",
    "        break"
   ]
  },
  {
   "cell_type": "code",
   "execution_count": null,
   "metadata": {},
   "outputs": [],
   "source": [
    "#Luego sacamos los precios\n",
    "\n",
    "price = driver.find_elements(By.CLASS_NAME, \"hzpu-priceFlex\") \n",
    "precios_mayo_hotel = []    \n",
    "\n",
    "for p in price:\n",
    "    all_prices = float(p.text.split()[0])\n",
    "    precios_mayo_hotel.append(all_prices)"
   ]
  },
  {
   "cell_type": "code",
   "execution_count": null,
   "metadata": {},
   "outputs": [],
   "source": [
    "precios_mayo_HOTEL = pd.DataFrame(precios_mayo_hotel, columns= [\"Mayo 2023\"])\n",
    "precios_mayo_HOTEL.to_csv(\"hotel_mayo_2023\")"
   ]
  },
  {
   "attachments": {},
   "cell_type": "markdown",
   "metadata": {},
   "source": [
    "# DATOS HOTEL JUNIO 2023"
   ]
  },
  {
   "cell_type": "code",
   "execution_count": null,
   "metadata": {},
   "outputs": [],
   "source": [
    "url_junio_23 = \"https://www.kayak.es/hotels/Madrid,Espana-c32213/2023-06-09/2023-06-11/2adults?fs=property-type=hotel,bb&sort=rank_a\"\n",
    "driver.get(url_junio_23)"
   ]
  },
  {
   "cell_type": "code",
   "execution_count": null,
   "metadata": {},
   "outputs": [],
   "source": [
    "#Para cargar todos los resultados de la página\n",
    "\n",
    "mas_resultados = driver.find_element(By.CLASS_NAME, 'moreButton')\n",
    "\n",
    "for i in range(40):\n",
    "    try:\n",
    "        mas_resultados.click()\n",
    "        time.sleep(np.random.randint(4, 7))\n",
    "    except:\n",
    "        print(\"Ya se han puelsado todos los botones\")\n",
    "        break"
   ]
  },
  {
   "cell_type": "code",
   "execution_count": null,
   "metadata": {},
   "outputs": [],
   "source": [
    "#Luego sacamos los precios\n",
    "\n",
    "price = driver.find_elements(By.CLASS_NAME, \"hzpu-priceFlex\") \n",
    "precios_junio_hotel = []    \n",
    "\n",
    "for p in price:\n",
    "    all_prices = float(p.text.split()[0])\n",
    "    precios_junio_hotel.append(all_prices)"
   ]
  },
  {
   "cell_type": "code",
   "execution_count": null,
   "metadata": {},
   "outputs": [],
   "source": [
    "precios_junio_HOTEL = pd.DataFrame(precios_junio_hotel, columns= [\"Junio 2023\"])\n",
    "precios_junio_HOTEL.to_csv(\"hotel_junio_2023\")"
   ]
  },
  {
   "attachments": {},
   "cell_type": "markdown",
   "metadata": {},
   "source": [
    "# DATOS HOTEL JULIO 2023"
   ]
  },
  {
   "cell_type": "code",
   "execution_count": null,
   "metadata": {},
   "outputs": [],
   "source": [
    "url_julio_23 = \"https://www.kayak.es/hotels/Madrid,Espana-c32213/2023-07-07/2023-07-09/2adults?fs=property-type=bb,hotel&sort=rank_a\"\n",
    "driver.get(url_julio_23)"
   ]
  },
  {
   "cell_type": "code",
   "execution_count": null,
   "metadata": {},
   "outputs": [],
   "source": [
    "#Para cargar todos los resultados de la página\n",
    "\n",
    "mas_resultados = driver.find_element(By.CLASS_NAME, 'moreButton')\n",
    "\n",
    "for i in range(40):\n",
    "    try:\n",
    "        mas_resultados.click()\n",
    "        time.sleep(np.random.randint(4, 7))\n",
    "    except:\n",
    "        print(\"Ya se han puelsado todos los botones\")\n",
    "        break"
   ]
  },
  {
   "cell_type": "code",
   "execution_count": null,
   "metadata": {},
   "outputs": [],
   "source": [
    "#Luego sacamos los precios\n",
    "\n",
    "price = driver.find_elements(By.CLASS_NAME, \"hzpu-priceFlex\") \n",
    "precios_julio_hotel = []    \n",
    "\n",
    "for p in price:\n",
    "    all_prices = float(p.text.split()[0])\n",
    "    precios_julio_hotel.append(all_prices)"
   ]
  },
  {
   "cell_type": "code",
   "execution_count": null,
   "metadata": {},
   "outputs": [],
   "source": [
    "precios_julio_HOTEL = pd.DataFrame(precios_julio_hotel, columns= [\"Julio 2023\"])\n",
    "precios_julio_HOTEL.to_csv(\"hotel_julio_2023\")"
   ]
  },
  {
   "attachments": {},
   "cell_type": "markdown",
   "metadata": {},
   "source": [
    "# DATOS HOTEL AGOSTO 2023"
   ]
  },
  {
   "cell_type": "code",
   "execution_count": null,
   "metadata": {},
   "outputs": [],
   "source": [
    "url_agosto_23 = \"https://www.kayak.es/hotels/Madrid,Espana-c32213/2023-08-11/2023-08-13/2adults?fs=property-type=hotel,bb&sort=rank_a\"\n",
    "driver.get(url_agosto_23)"
   ]
  },
  {
   "cell_type": "code",
   "execution_count": null,
   "metadata": {},
   "outputs": [],
   "source": [
    "#Para cargar todos los resultados de la página\n",
    "\n",
    "mas_resultados = driver.find_element(By.CLASS_NAME, 'moreButton')\n",
    "\n",
    "for i in range(40):\n",
    "    try:\n",
    "        mas_resultados.click()\n",
    "        time.sleep(np.random.randint(4, 7))\n",
    "    except:\n",
    "        print(\"Ya se han puelsado todos los botones\")\n",
    "        break"
   ]
  },
  {
   "cell_type": "code",
   "execution_count": null,
   "metadata": {},
   "outputs": [],
   "source": [
    "#Luego sacamos los precios\n",
    "\n",
    "price = driver.find_elements(By.CLASS_NAME, \"hzpu-priceFlex\") \n",
    "precios_agosto_hotel = []    \n",
    "\n",
    "for p in price:\n",
    "    all_prices = float(p.text.split()[0])\n",
    "    precios_agosto_hotel.append(all_prices)"
   ]
  },
  {
   "cell_type": "code",
   "execution_count": null,
   "metadata": {},
   "outputs": [],
   "source": [
    "precios_agosto_HOTEL = pd.DataFrame(precios_agosto_hotel, columns= [\"Agosto 2023\"])\n",
    "precios_agosto_HOTEL.to_csv(\"hotel_agosto_2023\")"
   ]
  },
  {
   "attachments": {},
   "cell_type": "markdown",
   "metadata": {},
   "source": [
    "# DATOS HOTEL SEPTIEMBRE 2023"
   ]
  },
  {
   "cell_type": "code",
   "execution_count": 3,
   "metadata": {},
   "outputs": [],
   "source": [
    "url_sept_23 = \"https://www.kayak.es/hotels/Madrid,Espana-c32213/2023-09-08/2023-09-10/2adults?fs=property-type=hotel,bb&sort=rank_a\"\n",
    "driver.get(url_sept_23)"
   ]
  },
  {
   "cell_type": "code",
   "execution_count": 5,
   "metadata": {},
   "outputs": [],
   "source": [
    "#Para cargar todos los resultados de la página\n",
    "\n",
    "mas_resultados = driver.find_element(By.CLASS_NAME, 'moreButton')\n",
    "\n",
    "for i in range(40):\n",
    "    try:\n",
    "        mas_resultados.click()\n",
    "        time.sleep(np.random.randint(4, 7))\n",
    "    except:\n",
    "        print(\"Ya se han puelsado todos los botones\")\n",
    "        break"
   ]
  },
  {
   "cell_type": "code",
   "execution_count": 6,
   "metadata": {},
   "outputs": [],
   "source": [
    "#Luego sacamos los precios\n",
    "\n",
    "price = driver.find_elements(By.CLASS_NAME, \"hzpu-priceFlex\") \n",
    "precios_sept_hotel = []    \n",
    "\n",
    "for p in price:\n",
    "    all_prices = float(p.text.split()[0])\n",
    "    precios_sept_hotel.append(all_prices)"
   ]
  },
  {
   "cell_type": "code",
   "execution_count": 7,
   "metadata": {},
   "outputs": [],
   "source": [
    "precios_sept_HOTEL = pd.DataFrame(precios_sept_hotel, columns= [\"Septiembre 2023\"])\n",
    "precios_sept_HOTEL.to_csv(\"hotel_sept_2023\")"
   ]
  },
  {
   "attachments": {},
   "cell_type": "markdown",
   "metadata": {},
   "source": [
    "# DATOS HOTEL OCTUBRE 2023"
   ]
  },
  {
   "cell_type": "code",
   "execution_count": 8,
   "metadata": {},
   "outputs": [],
   "source": [
    "url_oct_23 = \"https://www.kayak.es/hotels/Madrid,Espana-c32213/2023-10-06/2023-10-08/2adults?fs=property-type=hotel,bb&sort=rank_a\"\n",
    "driver.get(url_oct_23)"
   ]
  },
  {
   "cell_type": "code",
   "execution_count": 9,
   "metadata": {},
   "outputs": [],
   "source": [
    "#Para cargar todos los resultados de la página\n",
    "\n",
    "mas_resultados = driver.find_element(By.CLASS_NAME, 'moreButton')\n",
    "\n",
    "for i in range(40):\n",
    "    try:\n",
    "        mas_resultados.click()\n",
    "        time.sleep(np.random.randint(4, 7))\n",
    "    except:\n",
    "        print(\"Ya se han puelsado todos los botones\")\n",
    "        break"
   ]
  },
  {
   "cell_type": "code",
   "execution_count": 10,
   "metadata": {},
   "outputs": [],
   "source": [
    "#Luego sacamos los precios\n",
    "\n",
    "price = driver.find_elements(By.CLASS_NAME, \"hzpu-priceFlex\") \n",
    "precios_oct_hotel = []    \n",
    "\n",
    "for p in price:\n",
    "    all_prices = float(p.text.split()[0])\n",
    "    precios_oct_hotel.append(all_prices)"
   ]
  },
  {
   "cell_type": "code",
   "execution_count": 11,
   "metadata": {},
   "outputs": [],
   "source": [
    "precios_oct_HOTEL = pd.DataFrame(precios_oct_hotel, columns= [\"Octubre 2023\"])\n",
    "precios_oct_HOTEL.to_csv(\"hotel_oct_2023\")"
   ]
  },
  {
   "attachments": {},
   "cell_type": "markdown",
   "metadata": {},
   "source": [
    "# DATOS HOTEL NOVIEMBRE 2023"
   ]
  },
  {
   "cell_type": "code",
   "execution_count": 12,
   "metadata": {},
   "outputs": [],
   "source": [
    "url_nov_23 = \"https://www.kayak.es/hotels/Madrid,Espana-c32213/2023-11-10/2023-11-12/2adults?fs=property-type=hotel,bb&sort=rank_a\"\n",
    "driver.get(url_nov_23)"
   ]
  },
  {
   "cell_type": "code",
   "execution_count": 13,
   "metadata": {},
   "outputs": [],
   "source": [
    "#Para cargar todos los resultados de la página\n",
    "\n",
    "mas_resultados = driver.find_element(By.CLASS_NAME, 'moreButton')\n",
    "\n",
    "for i in range(40):\n",
    "    try:\n",
    "        mas_resultados.click()\n",
    "        time.sleep(np.random.randint(4, 7))\n",
    "    except:\n",
    "        print(\"Ya se han puelsado todos los botones\")\n",
    "        break"
   ]
  },
  {
   "cell_type": "code",
   "execution_count": 14,
   "metadata": {},
   "outputs": [],
   "source": [
    "#Luego sacamos los precios\n",
    "\n",
    "price = driver.find_elements(By.CLASS_NAME, \"hzpu-priceFlex\") \n",
    "precios_nov_hotel = []    \n",
    "\n",
    "for p in price:\n",
    "    all_prices = float(p.text.split()[0])\n",
    "    precios_nov_hotel.append(all_prices)"
   ]
  },
  {
   "cell_type": "code",
   "execution_count": 15,
   "metadata": {},
   "outputs": [],
   "source": [
    "precios_nov_HOTEL = pd.DataFrame(precios_nov_hotel, columns= [\"Noviembre 2023\"])\n",
    "precios_nov_HOTEL.to_csv(\"hotel_nov_2023\")"
   ]
  },
  {
   "attachments": {},
   "cell_type": "markdown",
   "metadata": {},
   "source": [
    "# DATOS HOTEL DICIEMBRE 2023"
   ]
  },
  {
   "cell_type": "code",
   "execution_count": 16,
   "metadata": {},
   "outputs": [],
   "source": [
    "url_dic_23 = \"https://www.kayak.es/hotels/Madrid,Espana-c32213/2023-12-08/2023-12-10/2adults?fs=property-type=hotel,bb&sort=rank_a\"\n",
    "driver.get(url_dic_23)"
   ]
  },
  {
   "cell_type": "code",
   "execution_count": 17,
   "metadata": {},
   "outputs": [],
   "source": [
    "#Para cargar todos los resultados de la página\n",
    "\n",
    "mas_resultados = driver.find_element(By.CLASS_NAME, 'moreButton')\n",
    "\n",
    "for i in range(40):\n",
    "    try:\n",
    "        mas_resultados.click()\n",
    "        time.sleep(np.random.randint(4, 7))\n",
    "    except:\n",
    "        print(\"Ya se han puelsado todos los botones\")\n",
    "        break"
   ]
  },
  {
   "cell_type": "code",
   "execution_count": 18,
   "metadata": {},
   "outputs": [],
   "source": [
    "#Luego sacamos los precios\n",
    "\n",
    "price = driver.find_elements(By.CLASS_NAME, \"hzpu-priceFlex\") \n",
    "precios_dic_hotel = []    \n",
    "\n",
    "for p in price:\n",
    "    all_prices = float(p.text.split()[0])\n",
    "    precios_dic_hotel.append(all_prices)"
   ]
  },
  {
   "cell_type": "code",
   "execution_count": 19,
   "metadata": {},
   "outputs": [],
   "source": [
    "precios_dic_HOTEL = pd.DataFrame(precios_dic_hotel, columns= [\"Diciembre 2023\"])\n",
    "precios_dic_HOTEL.to_csv(\"hotel_dic_2023\")"
   ]
  },
  {
   "attachments": {},
   "cell_type": "markdown",
   "metadata": {},
   "source": [
    "# DATOS HOTEL ENERO 2024"
   ]
  },
  {
   "cell_type": "code",
   "execution_count": 20,
   "metadata": {},
   "outputs": [],
   "source": [
    "url_enero_24 = \"https://www.kayak.es/hotels/Madrid,Espana-c32213/2024-01-12/2024-01-14/2adults?fs=property-type=hotel,bb&sort=rank_a\"\n",
    "driver.get(url_enero_24)"
   ]
  },
  {
   "cell_type": "code",
   "execution_count": 21,
   "metadata": {},
   "outputs": [],
   "source": [
    "#Para cargar todos los resultados de la página\n",
    "\n",
    "mas_resultados = driver.find_element(By.CLASS_NAME, 'moreButton')\n",
    "\n",
    "for i in range(40):\n",
    "    try:\n",
    "        mas_resultados.click()\n",
    "        time.sleep(np.random.randint(4, 7))\n",
    "    except:\n",
    "        print(\"Ya se han puelsado todos los botones\")\n",
    "        break"
   ]
  },
  {
   "cell_type": "code",
   "execution_count": 22,
   "metadata": {},
   "outputs": [],
   "source": [
    "#Luego sacamos los precios\n",
    "\n",
    "price = driver.find_elements(By.CLASS_NAME, \"hzpu-priceFlex\") \n",
    "precios_enero24_hotel = []    \n",
    "\n",
    "for p in price:\n",
    "    all_prices = float(p.text.split()[0])\n",
    "    precios_enero24_hotel.append(all_prices)"
   ]
  },
  {
   "cell_type": "code",
   "execution_count": 23,
   "metadata": {},
   "outputs": [],
   "source": [
    "precios_enero_HOTEL = pd.DataFrame(precios_enero24_hotel, columns= [\"Enero 2024\"])\n",
    "precios_enero_HOTEL.to_csv(\"hotel_enero_2024\")"
   ]
  },
  {
   "attachments": {},
   "cell_type": "markdown",
   "metadata": {},
   "source": [
    "# DATOS HOTEL FEBRERO 2024"
   ]
  },
  {
   "cell_type": "code",
   "execution_count": 24,
   "metadata": {},
   "outputs": [],
   "source": [
    "url_feb_24 = \"https://www.kayak.es/hotels/Madrid,Espana-c32213/2024-02-09/2024-02-11/2adults?fs=property-type=hotel,bb&sort=rank_a\"\n",
    "driver.get(url_feb_24)"
   ]
  },
  {
   "cell_type": "code",
   "execution_count": 25,
   "metadata": {},
   "outputs": [
    {
     "name": "stdout",
     "output_type": "stream",
     "text": [
      "Ya se han puelsado todos los botones\n"
     ]
    }
   ],
   "source": [
    "#Para cargar todos los resultados de la página\n",
    "\n",
    "mas_resultados = driver.find_element(By.CLASS_NAME, 'moreButton')\n",
    "\n",
    "for i in range(40):\n",
    "    try:\n",
    "        mas_resultados.click()\n",
    "        time.sleep(np.random.randint(4, 7))\n",
    "    except:\n",
    "        print(\"Ya se han puelsado todos los botones\")\n",
    "        break"
   ]
  },
  {
   "cell_type": "code",
   "execution_count": 26,
   "metadata": {},
   "outputs": [],
   "source": [
    "#Luego sacamos los precios\n",
    "\n",
    "price = driver.find_elements(By.CLASS_NAME, \"hzpu-priceFlex\") \n",
    "precios_feb24_hotel = []    \n",
    "\n",
    "for p in price:\n",
    "    all_prices = float(p.text.split()[0])\n",
    "    precios_feb24_hotel.append(all_prices)"
   ]
  },
  {
   "cell_type": "code",
   "execution_count": 27,
   "metadata": {},
   "outputs": [],
   "source": [
    "precios_feb_HOTEL = pd.DataFrame(precios_feb24_hotel, columns= [\"Febrero 2024\"])\n",
    "precios_feb_HOTEL.to_csv(\"hotel_feb_2024\")"
   ]
  }
 ],
 "metadata": {
  "kernelspec": {
   "display_name": "Python 3",
   "language": "python",
   "name": "python3"
  },
  "language_info": {
   "codemirror_mode": {
    "name": "ipython",
    "version": 3
   },
   "file_extension": ".py",
   "mimetype": "text/x-python",
   "name": "python",
   "nbconvert_exporter": "python",
   "pygments_lexer": "ipython3",
   "version": "3.11.1"
  },
  "orig_nbformat": 4
 },
 "nbformat": 4,
 "nbformat_minor": 2
}
